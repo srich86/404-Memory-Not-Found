{
 "cells": [
  {
   "cell_type": "code",
   "execution_count": 16,
   "metadata": {},
   "outputs": [],
   "source": [
    "import random\n",
    "\n",
    "def main():\n",
    "    print(\"Guess a number between 1 and 100\")\n",
    "    # randomNumber = 35 for debugging\n",
    "    randomNumber = random.randint(1,100)\n",
    "    found = False # flag variable to see if they guessed it\n",
    "    \n",
    "    while not found:\n",
    "        userGuess = input(\"Your Guess: \")\n",
    "        if int(userGuess) == randomNumber:\n",
    "            print(\"You got it!\")\n",
    "            found = True\n",
    "        elif int(userGuess) >= randomNumber:\n",
    "            print(\"Guess lower!\")\n",
    "        else:\n",
    "            print(\"Guess higher!\")"
   ]
  },
  {
   "cell_type": "code",
   "execution_count": 17,
   "metadata": {},
   "outputs": [
    {
     "name": "stdout",
     "output_type": "stream",
     "text": [
      "Guess a number between 1 and 100\n",
      "Your Guess: 50\n",
      "Guess higher!\n",
      "Your Guess: 60\n",
      "Guess higher!\n",
      "Your Guess: 70\n",
      "Guess higher!\n",
      "Your Guess: 80\n",
      "Guess higher!\n",
      "Your Guess: 90\n",
      "Guess lower!\n",
      "Your Guess: 85\n",
      "Guess higher!\n",
      "Your Guess: 86\n",
      "Guess higher!\n",
      "Your Guess: 87\n",
      "Guess higher!\n",
      "Your Guess: 88\n",
      "Guess higher!\n",
      "Your Guess: 89\n",
      "You got it!\n"
     ]
    }
   ],
   "source": [
    "main()"
   ]
  },
  {
   "cell_type": "markdown",
   "metadata": {},
   "source": []
  },
  {
   "cell_type": "code",
   "execution_count": 15,
   "metadata": {},
   "outputs": [
    {
     "name": "stdout",
     "output_type": "stream",
     "text": [
      "2\n"
     ]
    }
   ],
   "source": [
    "import random\n",
    "\n",
    "print(random.randint(1,2))"
   ]
  },
  {
   "cell_type": "code",
   "execution_count": 20,
   "metadata": {},
   "outputs": [],
   "source": [
    "# -*- coding: utf-8 -*-\n",
    "import sys\n",
    "for line in sys.stdin:\n",
    "    if line is not type(line) == int or type(line) == float:\n",
    "        print (\"Please only use numbers\")\n",
    "    else:\n",
    "        line == line * line\n",
    "    print (line)"
   ]
  },
  {
   "cell_type": "code",
   "execution_count": 36,
   "metadata": {},
   "outputs": [],
   "source": [
    "def square():\n",
    "    line = input(\"To square: \")\n",
    "    int(line)\n",
    "    line == line **2\n",
    "    print (line),"
   ]
  },
  {
   "cell_type": "code",
   "execution_count": 37,
   "metadata": {},
   "outputs": [
    {
     "ename": "NameError",
     "evalue": "name 'line' is not defined",
     "output_type": "error",
     "traceback": [
      "\u001b[1;31m---------------------------------------------------------------------------\u001b[0m",
      "\u001b[1;31mNameError\u001b[0m                                 Traceback (most recent call last)",
      "\u001b[1;32m<ipython-input-37-927ef13d4b08>\u001b[0m in \u001b[0;36m<module>\u001b[1;34m\u001b[0m\n\u001b[1;32m----> 1\u001b[1;33m \u001b[0mtype\u001b[0m\u001b[1;33m(\u001b[0m\u001b[0mline\u001b[0m\u001b[1;33m)\u001b[0m\u001b[1;33m\u001b[0m\u001b[1;33m\u001b[0m\u001b[0m\n\u001b[0m",
      "\u001b[1;31mNameError\u001b[0m: name 'line' is not defined"
     ]
    }
   ],
   "source": [
    "type(line)"
   ]
  },
  {
   "cell_type": "code",
   "execution_count": 35,
   "metadata": {},
   "outputs": [
    {
     "ename": "NameError",
     "evalue": "name 'line' is not defined",
     "output_type": "error",
     "traceback": [
      "\u001b[1;31m---------------------------------------------------------------------------\u001b[0m",
      "\u001b[1;31mNameError\u001b[0m                                 Traceback (most recent call last)",
      "\u001b[1;32m<ipython-input-35-927ef13d4b08>\u001b[0m in \u001b[0;36m<module>\u001b[1;34m\u001b[0m\n\u001b[1;32m----> 1\u001b[1;33m \u001b[0mtype\u001b[0m\u001b[1;33m(\u001b[0m\u001b[0mline\u001b[0m\u001b[1;33m)\u001b[0m\u001b[1;33m\u001b[0m\u001b[1;33m\u001b[0m\u001b[0m\n\u001b[0m",
      "\u001b[1;31mNameError\u001b[0m: name 'line' is not defined"
     ]
    }
   ],
   "source": [
    "type(line)"
   ]
  },
  {
   "cell_type": "code",
   "execution_count": 38,
   "metadata": {},
   "outputs": [
    {
     "name": "stdout",
     "output_type": "stream",
     "text": [
      "\n"
     ]
    }
   ],
   "source": [
    "import sys\n",
    "print(sys.stdin.readline())"
   ]
  },
  {
   "cell_type": "code",
   "execution_count": 39,
   "metadata": {},
   "outputs": [
    {
     "ename": "NameError",
     "evalue": "name 'hello' is not defined",
     "output_type": "error",
     "traceback": [
      "\u001b[1;31m---------------------------------------------------------------------------\u001b[0m",
      "\u001b[1;31mNameError\u001b[0m                                 Traceback (most recent call last)",
      "\u001b[1;32m<ipython-input-39-f572d396fae9>\u001b[0m in \u001b[0;36m<module>\u001b[1;34m\u001b[0m\n\u001b[1;32m----> 1\u001b[1;33m \u001b[0mhello\u001b[0m\u001b[1;33m\u001b[0m\u001b[1;33m\u001b[0m\u001b[0m\n\u001b[0m",
      "\u001b[1;31mNameError\u001b[0m: name 'hello' is not defined"
     ]
    }
   ],
   "source": [
    "hello"
   ]
  },
  {
   "cell_type": "code",
   "execution_count": 40,
   "metadata": {},
   "outputs": [],
   "source": [
    "def tip():\n",
    "    print(\"How much was your meal\")\n",
    "    price = int(sys.stdin.readline())\n",
    "    print(\"What percent do you want to tip\")\n",
    "    tip = int(sys.stdin.readline()) \n",
    "    final_tip = tip/100 * price\n",
    "    print(\"You will want to tip them %s\" % final_tip + \" dollars\")"
   ]
  },
  {
   "cell_type": "code",
   "execution_count": 41,
   "metadata": {},
   "outputs": [
    {
     "name": "stdout",
     "output_type": "stream",
     "text": [
      "How much was your meal\n"
     ]
    },
    {
     "ename": "ValueError",
     "evalue": "invalid literal for int() with base 10: ''",
     "output_type": "error",
     "traceback": [
      "\u001b[1;31m---------------------------------------------------------------------------\u001b[0m",
      "\u001b[1;31mValueError\u001b[0m                                Traceback (most recent call last)",
      "\u001b[1;32m<ipython-input-41-19dfe4b904d6>\u001b[0m in \u001b[0;36m<module>\u001b[1;34m\u001b[0m\n\u001b[1;32m----> 1\u001b[1;33m \u001b[0mtip\u001b[0m\u001b[1;33m(\u001b[0m\u001b[1;33m)\u001b[0m\u001b[1;33m\u001b[0m\u001b[1;33m\u001b[0m\u001b[0m\n\u001b[0m",
      "\u001b[1;32m<ipython-input-40-16159ed8b56f>\u001b[0m in \u001b[0;36mtip\u001b[1;34m()\u001b[0m\n\u001b[0;32m      1\u001b[0m \u001b[1;32mdef\u001b[0m \u001b[0mtip\u001b[0m\u001b[1;33m(\u001b[0m\u001b[1;33m)\u001b[0m\u001b[1;33m:\u001b[0m\u001b[1;33m\u001b[0m\u001b[1;33m\u001b[0m\u001b[0m\n\u001b[0;32m      2\u001b[0m     \u001b[0mprint\u001b[0m\u001b[1;33m(\u001b[0m\u001b[1;34m\"How much was your meal\"\u001b[0m\u001b[1;33m)\u001b[0m\u001b[1;33m\u001b[0m\u001b[1;33m\u001b[0m\u001b[0m\n\u001b[1;32m----> 3\u001b[1;33m     \u001b[0mprice\u001b[0m \u001b[1;33m=\u001b[0m \u001b[0mint\u001b[0m\u001b[1;33m(\u001b[0m\u001b[0msys\u001b[0m\u001b[1;33m.\u001b[0m\u001b[0mstdin\u001b[0m\u001b[1;33m.\u001b[0m\u001b[0mreadline\u001b[0m\u001b[1;33m(\u001b[0m\u001b[1;33m)\u001b[0m\u001b[1;33m)\u001b[0m\u001b[1;33m\u001b[0m\u001b[1;33m\u001b[0m\u001b[0m\n\u001b[0m\u001b[0;32m      4\u001b[0m     \u001b[0mprint\u001b[0m\u001b[1;33m(\u001b[0m\u001b[1;34m\"What percent do you want to tip\"\u001b[0m\u001b[1;33m)\u001b[0m\u001b[1;33m\u001b[0m\u001b[1;33m\u001b[0m\u001b[0m\n\u001b[0;32m      5\u001b[0m     \u001b[0mtip\u001b[0m \u001b[1;33m=\u001b[0m \u001b[0mint\u001b[0m\u001b[1;33m(\u001b[0m\u001b[0msys\u001b[0m\u001b[1;33m.\u001b[0m\u001b[0mstdin\u001b[0m\u001b[1;33m.\u001b[0m\u001b[0mreadline\u001b[0m\u001b[1;33m(\u001b[0m\u001b[1;33m)\u001b[0m\u001b[1;33m)\u001b[0m\u001b[1;33m\u001b[0m\u001b[1;33m\u001b[0m\u001b[0m\n",
      "\u001b[1;31mValueError\u001b[0m: invalid literal for int() with base 10: ''"
     ]
    }
   ],
   "source": [
    "tip()"
   ]
  },
  {
   "cell_type": "code",
   "execution_count": 42,
   "metadata": {},
   "outputs": [],
   "source": [
    "# -*- coding: utf-8 -*-\n",
    "import sys\n",
    "for line in sys.stdin:\n",
    "    if line is not type(line) == int or type(line) == float:\n",
    "        print (\"Please only use numbers\")\n",
    "    else:\n",
    "        line == line * line\n",
    "    print (line)"
   ]
  },
  {
   "cell_type": "code",
   "execution_count": 45,
   "metadata": {},
   "outputs": [
    {
     "name": "stdout",
     "output_type": "stream",
     "text": [
      "Hallo5\n",
      "25\n"
     ]
    }
   ],
   "source": [
    "line = 5\n",
    "for line in input(\"Hallo\"):\n",
    "    print(int(line)**2)"
   ]
  },
  {
   "cell_type": "code",
   "execution_count": 47,
   "metadata": {},
   "outputs": [
    {
     "name": "stdout",
     "output_type": "stream",
     "text": [
      "Price; Cash: 15; 20\n",
      "['15', ' 20']\n"
     ]
    }
   ],
   "source": [
    "userin = input(\"Price; Cash: \")\n",
    "\n",
    "result = userin.split(\";\")\n",
    "print(result)"
   ]
  },
  {
   "cell_type": "code",
   "execution_count": 48,
   "metadata": {},
   "outputs": [
    {
     "data": {
      "text/plain": [
       "list"
      ]
     },
     "execution_count": 48,
     "metadata": {},
     "output_type": "execute_result"
    }
   ],
   "source": [
    "type(result)"
   ]
  },
  {
   "cell_type": "code",
   "execution_count": 127,
   "metadata": {},
   "outputs": [
    {
     "name": "stdout",
     "output_type": "stream",
     "text": [
      "Price; Cash: 45;50\n",
      "The cash out will be: 5.0 Dollars\n",
      "2\n",
      "0\n"
     ]
    }
   ],
   "source": [
    "change = {'ONE HUNDRED': 100.00, 'FIFTY': 50.00, 'TWENTY': 20.00, 'TEN': 10.00, \n",
    "          'FIVE': 5.00, 'TWO': 2.00, \n",
    "          'ONE': 1.00, \n",
    "          'HALF DOLLAR': .50, \n",
    "          'QUARTER': .25, 'DIME': .10, 'NICKEL': .05, 'PENNY': .01}\n",
    "\n",
    "\n",
    "cashout = 0\n",
    "userin = input(\"Price; Cash: \")\n",
    "result = userin.split(\";\")\n",
    "price = result[0]\n",
    "cash = result[1]\n",
    "\n",
    "\n",
    "# Checking whether enough money was paid, and if, how high the cash out would be\n",
    "if price > cash:\n",
    "    print(\"ERROR\")\n",
    "elif result[0] == result[1]:\n",
    "    print(\"ZERO\")\n",
    "else:\n",
    "    cashout = float(cash) - float(price)\n",
    "    cashout = round(cashout, 2)         \n",
    "    print(\"The cash out will be: \" + str(cashout) + \" Dollars\")\n",
    "    \n",
    "if type(cashout) == float:  \n",
    "    cashout = str(cashout)\n",
    "    cashout_dollars = cashout.split(\".\")[0]    \n",
    "    cashout_cents   = cashout.split(\".\")[1] \n",
    "    def cents_out(cents):\n",
    "        HALF_DOLLAR = cents // 50\n",
    "        QUARTER     = (cents % 50) // 25\n",
    "        DIME        = (cents % 50 % 25) // 10\n",
    "        NICKEL      = (cents % 50 % 25 % 10) // 5\n",
    "        PENNY       = cents % 5\n",
    "        print(HALF_DOLLAR + QUARTER + DIME + NICKEL + PENNY)\n",
    "\n",
    "def dollars_out(dollars):\n",
    "    ONE_HUNDRED = dollars // 100\n",
    "    FIFTY       = dollars % 100 // 50 \n",
    "    TWENTY      = dollars % 100 % 50 // 20\n",
    "    TEN         = dollars % 100 % 50 % 20 // 10  \n",
    "    FIVE        = dollars % 100 % 50 % 20 % 10 // 5\n",
    "    TWO         = dollars % 100 % 50 % 20 % 10 % 5 // 2\n",
    "    ONE         = dollars % 2\n",
    "    print(ONE_HUNDRED + FIFTY + TWENTY + TEN + FIVE + TWO + ONE)\n",
    "\n",
    "dollars_out(int(cashout_dollars))\n",
    "cents_out(int(cashout_cents))"
   ]
  },
  {
   "cell_type": "code",
   "execution_count": 118,
   "metadata": {},
   "outputs": [
    {
     "name": "stdout",
     "output_type": "stream",
     "text": [
      "0.01\n"
     ]
    },
    {
     "ename": "IndexError",
     "evalue": "list assignment index out of range",
     "output_type": "error",
     "traceback": [
      "\u001b[1;31m---------------------------------------------------------------------------\u001b[0m",
      "\u001b[1;31mIndexError\u001b[0m                                Traceback (most recent call last)",
      "\u001b[1;32m<ipython-input-118-f29dbbfc0263>\u001b[0m in \u001b[0;36m<module>\u001b[1;34m\u001b[0m\n\u001b[0;32m      4\u001b[0m     \u001b[1;32mfor\u001b[0m \u001b[0mi\u001b[0m \u001b[1;32min\u001b[0m \u001b[0mrange\u001b[0m\u001b[1;33m(\u001b[0m\u001b[0mlen\u001b[0m\u001b[1;33m(\u001b[0m\u001b[0mchange\u001b[0m\u001b[1;33m.\u001b[0m\u001b[0mitems\u001b[0m\u001b[1;33m(\u001b[0m\u001b[1;33m)\u001b[0m\u001b[1;33m)\u001b[0m\u001b[1;33m)\u001b[0m\u001b[1;33m:\u001b[0m\u001b[1;33m\u001b[0m\u001b[1;33m\u001b[0m\u001b[0m\n\u001b[0;32m      5\u001b[0m         \u001b[1;31m#print( key, \"=>\", val)\u001b[0m\u001b[1;33m\u001b[0m\u001b[1;33m\u001b[0m\u001b[1;33m\u001b[0m\u001b[0m\n\u001b[1;32m----> 6\u001b[1;33m         \u001b[0mstore\u001b[0m\u001b[1;33m[\u001b[0m\u001b[0mi\u001b[0m\u001b[1;33m]\u001b[0m \u001b[1;33m=\u001b[0m \u001b[0mval\u001b[0m\u001b[1;33m\u001b[0m\u001b[1;33m\u001b[0m\u001b[0m\n\u001b[0m",
      "\u001b[1;31mIndexError\u001b[0m: list assignment index out of range"
     ]
    }
   ],
   "source": [
    "store = [0]\n",
    "for key,val in change.items():\n",
    "    print(val)\n",
    "    for i in range(len(change.items())):\n",
    "        #print( key, \"=>\", val)\n",
    "        store[i] = val\n"
   ]
  },
  {
   "cell_type": "code",
   "execution_count": 105,
   "metadata": {},
   "outputs": [
    {
     "name": "stdout",
     "output_type": "stream",
     "text": [
      "QUARTER\n"
     ]
    }
   ],
   "source": [
    "for key, value in change.items():\n",
    "    if cashout/ == value:\n",
    "        print (key)"
   ]
  },
  {
   "cell_type": "code",
   "execution_count": 113,
   "metadata": {},
   "outputs": [
    {
     "name": "stdout",
     "output_type": "stream",
     "text": [
      "0\n",
      "1\n",
      "2\n",
      "3\n",
      "4\n",
      "5\n",
      "6\n",
      "7\n",
      "8\n",
      "9\n",
      "10\n",
      "11\n"
     ]
    }
   ],
   "source": [
    "for i in range(len(change.items())):\n",
    "    print(i)"
   ]
  },
  {
   "cell_type": "code",
   "execution_count": 116,
   "metadata": {},
   "outputs": [
    {
     "name": "stdout",
     "output_type": "stream",
     "text": [
      "100.0\n"
     ]
    }
   ],
   "source": [
    "print(store)"
   ]
  },
  {
   "cell_type": "code",
   "execution_count": 230,
   "metadata": {},
   "outputs": [
    {
     "data": {
      "text/plain": [
       "' if anz_dict[key] - float(cashout) == 0:\\n        break\\n    else:\\n        continue'"
      ]
     },
     "execution_count": 230,
     "metadata": {},
     "output_type": "execute_result"
    }
   ],
   "source": [
    "anz_dict = {}\n",
    "cashout = 4.99\n",
    "moneyvalue=[]\n",
    "count=[]\n",
    "keylist=[]\n",
    "\n",
    "#for key2, value2 in anz_dict.items():\n",
    "#    anz_dict[key2] = (float(cashout) - value2) // value\n",
    "for key, value in change.items(): \n",
    "    anz_dict[key] = float(cashout) // value\n",
    "    moneyvalue.append(value)\n",
    "    keylist.append(key)\n",
    "\n",
    "for key2, value2 in anz_dict.items():\n",
    "    count.append(value2)\n",
    "\n",
    "\n",
    "            #anz_dict[key] = \n",
    "#print(anz_dict[4.99])    \n",
    "    \n",
    "    \n",
    "    \n",
    "''' if anz_dict[key] - float(cashout) == 0:\n",
    "        break\n",
    "    else:\n",
    "        continue'''"
   ]
  },
  {
   "cell_type": "code",
   "execution_count": 231,
   "metadata": {},
   "outputs": [
    {
     "name": "stdout",
     "output_type": "stream",
     "text": [
      "{'ONE HUNDRED': 0.0, 'FIFTY': 0.0, 'TWENTY': 0.0, 'TEN': 0.0, 'FIVE': 0.0, 'TWO': 2.0, 'ONE': 4.0, 'HALF DOLLAR': 9.0, 'QUARTER': 19.0, 'DIME': 49.0, 'NICKEL': 99.0, 'PENNY': 499.0}\n",
      "[0.0, 0.0, 0.0, 0.0, 0.0, 2.0, 4.0, 9.0, 19.0, 49.0, 99.0, 499.0]\n",
      "[100.0, 50.0, 20.0, 10.0, 5.0, 2.0, 1.0, 0.5, 0.25, 0.1, 0.05, 0.01]\n",
      "['ONE HUNDRED', 'FIFTY', 'TWENTY', 'TEN', 'FIVE', 'TWO', 'ONE', 'HALF DOLLAR', 'QUARTER', 'DIME', 'NICKEL', 'PENNY']\n"
     ]
    }
   ],
   "source": [
    "print(anz_dict)\n",
    "print(count)\n",
    "print(moneyvalue)\n",
    "print(keylist)"
   ]
  },
  {
   "cell_type": "code",
   "execution_count": 156,
   "metadata": {},
   "outputs": [
    {
     "name": "stdout",
     "output_type": "stream",
     "text": [
      "4.99\n"
     ]
    }
   ],
   "source": [
    "print(cashout)"
   ]
  },
  {
   "cell_type": "code",
   "execution_count": 213,
   "metadata": {},
   "outputs": [
    {
     "name": "stdout",
     "output_type": "stream",
     "text": [
      "[0.0, 0.0, 0.0, 0.0, 0.0, 2.0]\n",
      "4.0\n",
      "0.9900000000000002\n",
      "[0.0, 0.0, 0.0, 0.0, 0.0, 2.0, 0.0, 1.0]\n",
      "0.5\n",
      "0.4900000000000002\n",
      "[0.0, 0.0, 0.0, 0.0, 0.0, 2.0, 0.0, 1.0, 1.0]\n",
      "0.25\n",
      "0.2400000000000002\n",
      "[0.0, 0.0, 0.0, 0.0, 0.0, 2.0, 0.0, 1.0, 1.0, 2.0]\n",
      "0.2\n",
      "0.0400000000000002\n",
      "[0.0, 0.0, 0.0, 0.0, 0.0, 2.0, 0.0, 1.0, 1.0, 2.0, 0.0, 4.0]\n",
      "0.04\n",
      "2.0122792321330962e-16\n",
      "[0.0, 0.0, 0.0, 0.0, 0.0, 2.0, 0.0, 1.0, 1.0, 2.0, 0.0, 4.0]\n"
     ]
    }
   ],
   "source": [
    "h = []\n",
    "k = []\n",
    "cashout = cashout\n",
    "moneyvalue = moneyvalue\n",
    "\n",
    "for i in range(len(moneyvalue)):\n",
    "    if cashout // moneyvalue[i]:\n",
    "        h.append(cashout // moneyvalue[i])\n",
    "        k = h[i] * moneyvalue[i]\n",
    "        cashout = cashout - k\n",
    "        print(h)\n",
    "        print(k)\n",
    "        print(cashout)\n",
    "        continue\n",
    "    else:\n",
    "        h.append(0.0)\n",
    "        continue\n",
    "print(h)"
   ]
  },
  {
   "cell_type": "code",
   "execution_count": 214,
   "metadata": {},
   "outputs": [
    {
     "name": "stdout",
     "output_type": "stream",
     "text": [
      "[100.0, 50.0, 20.0, 10.0, 5.0, 2.0, 1.0, 0.5, 0.25, 0.1, 0.05, 0.01]\n"
     ]
    }
   ],
   "source": [
    "print(moneyvalue)"
   ]
  },
  {
   "cell_type": "code",
   "execution_count": 191,
   "metadata": {},
   "outputs": [
    {
     "name": "stdout",
     "output_type": "stream",
     "text": [
      "[0.0, 0.0, 0.0, 0.0, 0.0, 4.0, 4.0, 4.5, 4.75, 4.9, 4.95, 4.99]\n"
     ]
    }
   ],
   "source": [
    "# r=count@moneyvalue\n",
    "r = [a*b for a,b in zip(count,moneyvalue)]\n",
    "print(r)"
   ]
  },
  {
   "cell_type": "code",
   "execution_count": 196,
   "metadata": {},
   "outputs": [
    {
     "name": "stdout",
     "output_type": "stream",
     "text": [
      "32.089999999999996\n",
      "32.089999999999996\n",
      "32.089999999999996\n",
      "32.089999999999996\n",
      "32.089999999999996\n",
      "32.089999999999996\n",
      "32.089999999999996\n",
      "32.089999999999996\n",
      "32.089999999999996\n",
      "32.089999999999996\n",
      "32.089999999999996\n",
      "32.089999999999996\n"
     ]
    }
   ],
   "source": [
    "for i in range(len(r)):\n",
    "    if i // cashout == 1:\n",
    "        cashout % i "
   ]
  },
  {
   "cell_type": "code",
   "execution_count": 184,
   "metadata": {},
   "outputs": [],
   "source": [
    "from functools import reduce\n",
    "f = reduce(lambda x, y: x * y, [1,2,3,4,5])\n",
    "#720"
   ]
  },
  {
   "cell_type": "code",
   "execution_count": 228,
   "metadata": {},
   "outputs": [
    {
     "data": {
      "text/plain": [
       "list"
      ]
     },
     "execution_count": 228,
     "metadata": {},
     "output_type": "execute_result"
    }
   ],
   "source": [
    "type(h)"
   ]
  },
  {
   "cell_type": "code",
   "execution_count": 234,
   "metadata": {},
   "outputs": [
    {
     "name": "stdout",
     "output_type": "stream",
     "text": [
      "{'ONE HUNDRED': 0.0, 'FIFTY': 0.0, 'TWENTY': 0.0, 'TEN': 0.0, 'FIVE': 0.0, 'TWO': 2.0, 'ONE': 0.0, 'HALF DOLLAR': 1.0, 'QUARTER': 1.0, 'DIME': 2.0, 'NICKEL': 0.0, 'PENNY': 4.0}\n"
     ]
    }
   ],
   "source": [
    "dicti = dict(zip(keylist, h))\n",
    "print(dicti)"
   ]
  },
  {
   "cell_type": "code",
   "execution_count": 242,
   "metadata": {},
   "outputs": [
    {
     "name": "stdout",
     "output_type": "stream",
     "text": [
      "{'TWO': 2.0, 'HALF DOLLAR': 1.0, 'QUARTER': 1.0, 'DIME': 2.0, 'PENNY': 4.0}\n"
     ]
    }
   ],
   "source": [
    "print({k: v  for k, v in dicti.items() if v > 0.0})"
   ]
  },
  {
   "cell_type": "code",
   "execution_count": null,
   "metadata": {},
   "outputs": [],
   "source": []
  },
  {
   "cell_type": "code",
   "execution_count": 314,
   "metadata": {},
   "outputs": [
    {
     "name": "stdout",
     "output_type": "stream",
     "text": [
      "Price; Cash: 45;50\n",
      "[0.0, 0.0, 0.0, 0.0, 1.0]\n",
      "5.0\n",
      "0.0\n",
      "[0.0, 0.0, 0.0, 0.0, 1.0, 0.0, 0.0, 0.0, 0.0, 0.0, 0.0, 0.0]\n",
      "{'FIVE': 1.0}\n"
     ]
    }
   ],
   "source": [
    "'''\n",
    "This is a cash-register program, which -given some user input- \n",
    "computes whether enough money was paid, and whether the customer \n",
    "should receive some money back.\n",
    "\n",
    "This code takes semicolon-seperated user input of the form \" x;y \",\n",
    "where x and y can either be integer or floating point numbers.\n",
    "Therefore, x will be the price that the customer is supposed to pay\n",
    "and y the cash that the customer actually paid.\n",
    "\n",
    "Subsequently, this program then indicates what bills and coins are \n",
    "supposed to be taken out of the cash-register.\n",
    "\n",
    "Build by: Sebastian Richter, May 13, 2019\n",
    "'''\n",
    "\n",
    "\n",
    "#DEFINING TYPE OF BILLS AND COINS IN THE CASH REGISTER\n",
    "change = {'ONE HUNDRED': 100.00, 'FIFTY': 50.00, 'TWENTY': 20.00, 'TEN': 10.00, \n",
    "          'FIVE': 5.00, 'TWO': 2.00, \n",
    "          'ONE': 1.00, \n",
    "          'HALF DOLLAR': .50, \n",
    "          'QUARTER': .25, 'DIME': .10, 'NICKEL': .05, 'PENNY': .01}\n",
    "\n",
    "\n",
    "# PRIMING VARIABLES, USER INPUT, SPLITTING USER INPUT INTO EASILY READABLE FORMAT\n",
    "cashout = 0\n",
    "userin = input(\"Price; Cash: \")\n",
    "result = userin.split(\";\")\n",
    "price = float(result[0])\n",
    "cash = float(result[1])\n",
    "\n",
    "\n",
    "# CHECKING WHETHER ENOUG MONEY WAS PAID, AND IF SO, HOW HIGH THE CASH OUT WILL BE\n",
    "if price > cash:\n",
    "    print(price)\n",
    "    (print(cash))\n",
    "    print(\"ERROR\")\n",
    "    cashout_bool = False\n",
    "elif price == cash:\n",
    "    print(\"ZERO\")\n",
    "    cashout_bool = False\n",
    "else:\n",
    "    cashout_bool = True\n",
    "    cashout = float(cash) - float(price)\n",
    "    cashout = round(cashout, 2)         # avoiding pythons inherent rounding errors\n",
    "    #print(\"The cash out will be: \" + str(cashout) + \" Dollars\")\n",
    "\n",
    "\n",
    "# PRIMING TWO NEW LISTS AND STORING KEYS AND VALUES SEPERATELY\n",
    "moneyvalue=[]\n",
    "keylist=[]\n",
    "\n",
    "for key, value in change.items(): \n",
    "    moneyvalue.append(value)\n",
    "    keylist.append(key)\n",
    "\n",
    "    \n",
    "# CALCULATING THE ACTUAL CASHOUT FOR EACH BILL AND COIN  \n",
    "list_cashout = []\n",
    "p = []\n",
    "\n",
    "\n",
    "for i in range(len(moneyvalue)):\n",
    "        if cashout // moneyvalue[i] >=1:\n",
    "            list_cashout.append(cashout // moneyvalue[i])\n",
    "            p = list_cashout[i] * moneyvalue[i]\n",
    "            rnd = round(cashout - p, 2) # avoiding pythons inherent rounding errors\n",
    "            cashout = rnd\n",
    "            #for debugging purposes\n",
    "            print(list_cashout) \n",
    "            print(p)\n",
    "            print(cashout)\n",
    "            continue\n",
    "        else:\n",
    "            list_cashout.append(0.0)\n",
    "            continue\n",
    "# for debugging purposes\n",
    "print(list_cashout)\n",
    "\n",
    "\n",
    "# CREATING A NEW DICTIONARY FOR THE CASHOUT    \n",
    "dict_cashout = dict(zip(keylist, list_cashout))\n",
    "sorted(dict_cashout) # sorting the dictionary by alphabetical order\n",
    "# for debugging purposes\n",
    "# print(dict_cashout)\n",
    "\n",
    "\n",
    "# PRINTING THE CASH OUT FOR THE PAYMENT MADE\n",
    "# this is the code for not taking amount of given out bills / coins into account\n",
    "# print({k  for k, v in dict_cashout.items() if v > 0.0})\n",
    "\n",
    "# this is code for if the amount that is given out for each bill or coin is relevant\n",
    "if cashout_bool == True:\n",
    "    print({k: v  for k, v in dict_cashout.items() if v > 0.0})"
   ]
  },
  {
   "cell_type": "code",
   "execution_count": null,
   "metadata": {},
   "outputs": [],
   "source": []
  },
  {
   "cell_type": "code",
   "execution_count": null,
   "metadata": {},
   "outputs": [],
   "source": []
  }
 ],
 "metadata": {
  "kernelspec": {
   "display_name": "Python 3",
   "language": "python",
   "name": "python3"
  },
  "language_info": {
   "codemirror_mode": {
    "name": "ipython",
    "version": 3
   },
   "file_extension": ".py",
   "mimetype": "text/x-python",
   "name": "python",
   "nbconvert_exporter": "python",
   "pygments_lexer": "ipython3",
   "version": "3.7.1"
  }
 },
 "nbformat": 4,
 "nbformat_minor": 2
}
